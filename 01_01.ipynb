{
 "cells": [
  {
   "cell_type": "code",
   "execution_count": 9,
   "metadata": {},
   "outputs": [],
   "source": [
    "import pandas as pd\n",
    "import numpy as np\n",
    "import math"
   ]
  },
  {
   "cell_type": "code",
   "execution_count": 10,
   "metadata": {},
   "outputs": [],
   "source": [
    "LIST_EPS_DEGREE = [-1, -3, -5, -7, -12]\n",
    "LIST_EPS = list(map(lambda degree: 10 ** degree, LIST_EPS_DEGREE))\n",
    "LIST_GAMMA = [1, 2, 0.5]\n",
    "LIST_Q = [0.9, 0.999, 0.99999]\n",
    "LIST_R = LIST_Q"
   ]
  },
  {
   "cell_type": "code",
   "execution_count": 11,
   "metadata": {},
   "outputs": [],
   "source": [
    "def t1(*, gamma, eps):\n",
    "    return math.ceil(eps ** (-1 / gamma))"
   ]
  },
  {
   "cell_type": "code",
   "execution_count": 12,
   "metadata": {},
   "outputs": [
    {
     "data": {
      "text/html": [
       "<div>\n",
       "<style scoped>\n",
       "    .dataframe tbody tr th:only-of-type {\n",
       "        vertical-align: middle;\n",
       "    }\n",
       "\n",
       "    .dataframe tbody tr th {\n",
       "        vertical-align: top;\n",
       "    }\n",
       "\n",
       "    .dataframe thead th {\n",
       "        text-align: right;\n",
       "    }\n",
       "</style>\n",
       "<table border=\"1\" class=\"dataframe\">\n",
       "  <thead>\n",
       "    <tr style=\"text-align: right;\">\n",
       "      <th></th>\n",
       "      <th>1.0</th>\n",
       "      <th>2.0</th>\n",
       "      <th>0.5</th>\n",
       "    </tr>\n",
       "  </thead>\n",
       "  <tbody>\n",
       "    <tr>\n",
       "      <td>-1</td>\n",
       "      <td>10</td>\n",
       "      <td>4</td>\n",
       "      <td>100</td>\n",
       "    </tr>\n",
       "    <tr>\n",
       "      <td>-3</td>\n",
       "      <td>1000</td>\n",
       "      <td>32</td>\n",
       "      <td>1000000</td>\n",
       "    </tr>\n",
       "    <tr>\n",
       "      <td>-5</td>\n",
       "      <td>100000</td>\n",
       "      <td>317</td>\n",
       "      <td>10000000000</td>\n",
       "    </tr>\n",
       "    <tr>\n",
       "      <td>-7</td>\n",
       "      <td>10000000</td>\n",
       "      <td>3163</td>\n",
       "      <td>100000000000001</td>\n",
       "    </tr>\n",
       "    <tr>\n",
       "      <td>-12</td>\n",
       "      <td>1000000000000</td>\n",
       "      <td>1000000</td>\n",
       "      <td>999999999999999983222784</td>\n",
       "    </tr>\n",
       "  </tbody>\n",
       "</table>\n",
       "</div>"
      ],
      "text/plain": [
       "               1.0      2.0                       0.5\n",
       "-1              10        4                       100\n",
       "-3            1000       32                   1000000\n",
       "-5          100000      317               10000000000\n",
       "-7        10000000     3163           100000000000001\n",
       "-12  1000000000000  1000000  999999999999999983222784"
      ]
     },
     "execution_count": 12,
     "metadata": {},
     "output_type": "execute_result"
    }
   ],
   "source": [
    "res = []\n",
    "for eps in LIST_EPS:\n",
    "    row = []\n",
    "    for gamma in LIST_GAMMA:\n",
    "        row.append(t1(gamma=gamma, eps=eps))\n",
    "    res.append(row)\n",
    "\n",
    "pd.DataFrame(res, index=LIST_EPS_DEGREE, columns=LIST_GAMMA)"
   ]
  },
  {
   "cell_type": "markdown",
   "metadata": {},
   "source": [
    "Проблемы с точностью. В ячейке (eps=10^-12, gamma=0.5) результат 10^24. На ячейку выше, ответ 10^14"
   ]
  },
  {
   "cell_type": "code",
   "execution_count": 13,
   "metadata": {},
   "outputs": [],
   "source": [
    "def t2(*, q, eps):\n",
    "    return math.ceil(math.log(eps, q))"
   ]
  },
  {
   "cell_type": "code",
   "execution_count": 14,
   "metadata": {
    "scrolled": true
   },
   "outputs": [
    {
     "data": {
      "text/html": [
       "<div>\n",
       "<style scoped>\n",
       "    .dataframe tbody tr th:only-of-type {\n",
       "        vertical-align: middle;\n",
       "    }\n",
       "\n",
       "    .dataframe tbody tr th {\n",
       "        vertical-align: top;\n",
       "    }\n",
       "\n",
       "    .dataframe thead th {\n",
       "        text-align: right;\n",
       "    }\n",
       "</style>\n",
       "<table border=\"1\" class=\"dataframe\">\n",
       "  <thead>\n",
       "    <tr style=\"text-align: right;\">\n",
       "      <th></th>\n",
       "      <th>0.90000</th>\n",
       "      <th>0.99900</th>\n",
       "      <th>0.99999</th>\n",
       "    </tr>\n",
       "  </thead>\n",
       "  <tbody>\n",
       "    <tr>\n",
       "      <td>-1</td>\n",
       "      <td>22</td>\n",
       "      <td>2302</td>\n",
       "      <td>230258</td>\n",
       "    </tr>\n",
       "    <tr>\n",
       "      <td>-3</td>\n",
       "      <td>66</td>\n",
       "      <td>6905</td>\n",
       "      <td>690773</td>\n",
       "    </tr>\n",
       "    <tr>\n",
       "      <td>-5</td>\n",
       "      <td>110</td>\n",
       "      <td>11508</td>\n",
       "      <td>1151287</td>\n",
       "    </tr>\n",
       "    <tr>\n",
       "      <td>-7</td>\n",
       "      <td>153</td>\n",
       "      <td>16111</td>\n",
       "      <td>1611802</td>\n",
       "    </tr>\n",
       "    <tr>\n",
       "      <td>-12</td>\n",
       "      <td>263</td>\n",
       "      <td>27618</td>\n",
       "      <td>2763089</td>\n",
       "    </tr>\n",
       "  </tbody>\n",
       "</table>\n",
       "</div>"
      ],
      "text/plain": [
       "     0.90000  0.99900  0.99999\n",
       "-1        22     2302   230258\n",
       "-3        66     6905   690773\n",
       "-5       110    11508  1151287\n",
       "-7       153    16111  1611802\n",
       "-12      263    27618  2763089"
      ]
     },
     "execution_count": 14,
     "metadata": {},
     "output_type": "execute_result"
    }
   ],
   "source": [
    "res = []\n",
    "for eps in LIST_EPS:\n",
    "    row = []\n",
    "    for q in LIST_Q:\n",
    "        row.append(t2(q=q, eps=eps))\n",
    "    res.append(row)\n",
    "\n",
    "pd.DataFrame(res, index=LIST_EPS_DEGREE, columns=LIST_Q)"
   ]
  },
  {
   "cell_type": "code",
   "execution_count": 15,
   "metadata": {},
   "outputs": [],
   "source": [
    "def t3(*, r, eps):\n",
    "    return math.ceil(math.log2(math.log(eps, r)))"
   ]
  },
  {
   "cell_type": "code",
   "execution_count": 16,
   "metadata": {},
   "outputs": [
    {
     "data": {
      "text/html": [
       "<div>\n",
       "<style scoped>\n",
       "    .dataframe tbody tr th:only-of-type {\n",
       "        vertical-align: middle;\n",
       "    }\n",
       "\n",
       "    .dataframe tbody tr th {\n",
       "        vertical-align: top;\n",
       "    }\n",
       "\n",
       "    .dataframe thead th {\n",
       "        text-align: right;\n",
       "    }\n",
       "</style>\n",
       "<table border=\"1\" class=\"dataframe\">\n",
       "  <thead>\n",
       "    <tr style=\"text-align: right;\">\n",
       "      <th></th>\n",
       "      <th>0.90000</th>\n",
       "      <th>0.99900</th>\n",
       "      <th>0.99999</th>\n",
       "    </tr>\n",
       "  </thead>\n",
       "  <tbody>\n",
       "    <tr>\n",
       "      <td>-1</td>\n",
       "      <td>5</td>\n",
       "      <td>12</td>\n",
       "      <td>18</td>\n",
       "    </tr>\n",
       "    <tr>\n",
       "      <td>-3</td>\n",
       "      <td>7</td>\n",
       "      <td>13</td>\n",
       "      <td>20</td>\n",
       "    </tr>\n",
       "    <tr>\n",
       "      <td>-5</td>\n",
       "      <td>7</td>\n",
       "      <td>14</td>\n",
       "      <td>21</td>\n",
       "    </tr>\n",
       "    <tr>\n",
       "      <td>-7</td>\n",
       "      <td>8</td>\n",
       "      <td>14</td>\n",
       "      <td>21</td>\n",
       "    </tr>\n",
       "    <tr>\n",
       "      <td>-12</td>\n",
       "      <td>9</td>\n",
       "      <td>15</td>\n",
       "      <td>22</td>\n",
       "    </tr>\n",
       "  </tbody>\n",
       "</table>\n",
       "</div>"
      ],
      "text/plain": [
       "     0.90000  0.99900  0.99999\n",
       "-1         5       12       18\n",
       "-3         7       13       20\n",
       "-5         7       14       21\n",
       "-7         8       14       21\n",
       "-12        9       15       22"
      ]
     },
     "execution_count": 16,
     "metadata": {},
     "output_type": "execute_result"
    }
   ],
   "source": [
    "res = []\n",
    "for eps in LIST_EPS:\n",
    "    row = []\n",
    "    for r in LIST_R:\n",
    "        row.append(t3(r=r, eps=eps))\n",
    "    res.append(row)\n",
    "\n",
    "pd.DataFrame(res, index=LIST_EPS_DEGREE, columns=LIST_R)"
   ]
  },
  {
   "cell_type": "code",
   "execution_count": null,
   "metadata": {},
   "outputs": [],
   "source": []
  }
 ],
 "metadata": {
  "kernelspec": {
   "display_name": "Python 3",
   "language": "python",
   "name": "python3"
  },
  "language_info": {
   "codemirror_mode": {
    "name": "ipython",
    "version": 3
   },
   "file_extension": ".py",
   "mimetype": "text/x-python",
   "name": "python",
   "nbconvert_exporter": "python",
   "pygments_lexer": "ipython3",
   "version": "3.6.8"
  }
 },
 "nbformat": 4,
 "nbformat_minor": 2
}
