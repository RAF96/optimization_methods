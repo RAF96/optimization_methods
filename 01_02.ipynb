{
 "cells": [
  {
   "cell_type": "code",
   "execution_count": 78,
   "metadata": {
    "pycharm": {
     "is_executing": false
    }
   },
   "outputs": [],
   "source": [
    "import numpy as np\n",
    "import matplotlib.pyplot as plt\n",
    "from sklearn import datasets"
   ]
  },
  {
   "cell_type": "code",
   "execution_count": 79,
   "outputs": [],
   "source": [
    "MOCK = True"
   ],
   "metadata": {
    "collapsed": false,
    "pycharm": {
     "name": "#%%\n",
     "is_executing": false
    }
   }
  },
  {
   "cell_type": "code",
   "execution_count": 80,
   "outputs": [],
   "source": [
    "def shape_one(f):\n",
    "    f.shape = 1\n",
    "    return f\n",
    "\n",
    "def shape_n(f):\n",
    "    f.shape = RANDOM_SHAPE \n",
    "    return f"
   ],
   "metadata": {
    "collapsed": false,
    "pycharm": {
     "name": "#%%\n",
     "is_executing": false
    }
   }
  },
  {
   "cell_type": "code",
   "execution_count": 81,
   "outputs": [],
   "source": [
    "def get_random_points(type=np.float64):\n",
    "    buffer = np.random.rand(RANDOM_SHAPE, 1) + np.ones((RANDOM_SHAPE, 1))\n",
    "    return buffer.astype(type)\n",
    "\n",
    "def get_random_matrix(type=np.float64):\n",
    "    buffer = datasets.make_spd_matrix(RANDOM_SHAPE, RANDOM_SHAPE) \n",
    "    return buffer.astype(type)\n",
    "\n",
    "def get_positive_definite_matrix(type=np.float64):\n",
    "    return get_random_matrix(type=type)"
   ],
   "metadata": {
    "collapsed": false,
    "pycharm": {
     "name": "#%%\n",
     "is_executing": false
    }
   }
  },
  {
   "cell_type": "code",
   "execution_count": 82,
   "outputs": [],
   "source": [
    "DEFAULT_EPS = 1e-3\n",
    "RANDOM_SHAPE = 4\n",
    "RANDOM_POINTS = get_random_points()\n",
    "RANDOM_MATRIX = get_random_matrix() \n",
    "POS_DEF_MATRIX = get_positive_definite_matrix()\n",
    "\n",
    "RANDOM_POINTS64 = get_random_points(np.float64)\n",
    "RANDOM_MATRIX64 = get_random_matrix(np.float64)\n",
    "POS_DEF_MATRIX64 = get_positive_definite_matrix(np.float64)\n",
    "\n",
    "I = np.identity(RANDOM_SHAPE).astype(np.float64)"
   ],
   "metadata": {
    "collapsed": false,
    "pycharm": {
     "name": "#%%\n",
     "is_executing": false
    }
   }
  },
  {
   "cell_type": "code",
   "execution_count": 83,
   "outputs": [],
   "source": [
    "def numerical_gradient(f, x, eps=DEFAULT_EPS):\n",
    "    dtype = x.dtype\n",
    "    shapes = x.shape[0], f.shape\n",
    "    n = x.shape[0]\n",
    "    \n",
    "    result = []\n",
    "    \n",
    "    for t in range(n):\n",
    "        v_eps = np.reshape(np.zeros(n, dtype=dtype), newshape=x.shape)\n",
    "        v_eps[t] = eps\n",
    "        plus, minus = f(x+v_eps), f(x-v_eps)\n",
    "        result.append((plus - minus) / (2 * eps))\n",
    "     \n",
    "    return np.reshape(np.array(result, dtype=dtype), newshape=shapes)\n",
    "\n",
    "def check_gradient(f, derivative_f, eps=DEFAULT_EPS):\n",
    "    v_numerical_gradient = numerical_gradient(f, RANDOM_POINTS, eps)\n",
    "    v_gradient = derivative_f(RANDOM_POINTS)\n",
    "    # print(v_numerical_gradient)\n",
    "    # print(v_gradient)\n",
    "    max_value = np.max(np.abs(v_numerical_gradient - v_gradient))\n",
    "    check_value = max_value < eps \n",
    "    # assert check_value, f\"Failed! max error {max_value}\"\n",
    "    if not check_value:\n",
    "        print(f\"Failed! max error {max_value}\")\n",
    "    else:\n",
    "        print(f'Succes: max error {max_value}')\n",
    "    "
   ],
   "metadata": {
    "collapsed": false,
    "pycharm": {
     "name": "#%%\n",
     "is_executing": false
    }
   }
  },
  {
   "cell_type": "code",
   "execution_count": 84,
   "outputs": [],
   "source": [
    "def task_4_1_func(A, x):\n",
    "    M = np.dot(x, x.transpose()) - A \n",
    "    return np.linalg.norm(M) ** 2 / 2 \n",
    "\n",
    "def task_4_1_gradient(A, x):\n",
    "    return 2 * (x.dot(x.transpose()) - A).dot(x)\n",
    "\n",
    "def task_4_1_hessian(A, x):\n",
    "    return 4 * x.dot(x.transpose()) + 2 * x.transpose().dot(x) * I - 2 * A"
   ],
   "metadata": {
    "collapsed": false,
    "pycharm": {
     "name": "#%%\n",
     "is_executing": false
    }
   }
  },
  {
   "cell_type": "code",
   "execution_count": 85,
   "outputs": [],
   "source": [
    "def show_plot():\n",
    "    x = np.linspace(0, 10) \n",
    "    y1, y2 = [], [] \n",
    "    for i in x:\n",
    "        v = np.random.rand(4, 1)\n",
    "        print(task_4_2_gradient(RANDOM_MATRIX, v))\n",
    "        y1.append(task_4_2_gradient(RANDOM_MATRIX, v)[2, 0])\n",
    "        y2.append(numerical_gradient(shape_one(lambda x: task_4_2_func(RANDOM_MATRIX, x)), v)[2, 0])\n",
    "       \n",
    "    plt.plot(x, y1)\n",
    "    plt.plot(x, y2)\n",
    "    plt.legend(['analytic', 'estimate'])\n",
    "    plt.show()\n",
    "    \n",
    "# show_plot()\n"
   ],
   "metadata": {
    "collapsed": false,
    "pycharm": {
     "name": "#%%\n",
     "is_executing": false
    }
   }
  },
  {
   "cell_type": "code",
   "execution_count": 86,
   "outputs": [
    {
     "name": "stdout",
     "text": [
      "Succes: max error 3.9061910399595945e-06\n"
     ],
     "output_type": "stream"
    }
   ],
   "source": [
    "check_gradient(shape_one(lambda x: task_4_1_func(RANDOM_MATRIX, x)),\n",
    "               lambda x: task_4_1_gradient(RANDOM_MATRIX, x))"
   ],
   "metadata": {
    "collapsed": false,
    "pycharm": {
     "name": "#%%\n",
     "is_executing": false
    }
   }
  },
  {
   "cell_type": "code",
   "execution_count": 87,
   "outputs": [
    {
     "name": "stdout",
     "text": [
      "Succes: max error 1.999999192037194e-06\n"
     ],
     "output_type": "stream"
    }
   ],
   "source": [
    "check_gradient(shape_n(lambda x: task_4_1_gradient(RANDOM_MATRIX, x)),\n",
    "               lambda x: task_4_1_hessian(RANDOM_MATRIX, x))"
   ],
   "metadata": {
    "collapsed": false,
    "pycharm": {
     "name": "#%%\n",
     "is_executing": false
    }
   }
  },
  {
   "cell_type": "code",
   "execution_count": 88,
   "outputs": [],
   "source": [
    "def task_4_2_func(A, x):\n",
    "    return np.dot(x.transpose(), A.dot(x)) / np.linalg.norm(x) ** 2 \n",
    "\n",
    "def task_4_2_gradient(A, x):\n",
    "    abs_x = x.transpose().dot(x)\n",
    "    # return (2 * (x.transpose().dot(A.transpose()) * abs_x - A.dot(x).transpose().dot(x).dot(x.transpose())) / abs_x ** 2).transpose()\n",
    "    return 2 * (A.dot(x) * abs_x - x.dot(A.dot(x).transpose().dot(x))) / abs_x ** 2\n",
    "\n",
    "def task_4_2_hessian(A, x):\n",
    "    return np.zeros(A.shape)"
   ],
   "metadata": {
    "collapsed": false,
    "pycharm": {
     "name": "#%%\n",
     "is_executing": false
    }
   }
  },
  {
   "cell_type": "code",
   "execution_count": 89,
   "outputs": [
    {
     "name": "stdout",
     "text": [
      "Succes: max error 4.973188044710142e-08\n"
     ],
     "output_type": "stream"
    }
   ],
   "source": [
    "check_gradient(shape_one(lambda x: task_4_2_func(RANDOM_MATRIX, x)),\n",
    "               lambda x: task_4_2_gradient(RANDOM_MATRIX, x))"
   ],
   "metadata": {
    "collapsed": false,
    "pycharm": {
     "name": "#%%\n",
     "is_executing": false
    }
   }
  },
  {
   "cell_type": "code",
   "execution_count": 90,
   "outputs": [
    {
     "name": "stdout",
     "text": [
      "Failed! max error 0.3674537483747409\n"
     ],
     "output_type": "stream"
    }
   ],
   "source": [
    "check_gradient(shape_n(lambda x: task_4_2_gradient(RANDOM_MATRIX, x)),\n",
    "               lambda x: task_4_2_hessian(RANDOM_MATRIX, x))"
   ],
   "metadata": {
    "collapsed": false,
    "pycharm": {
     "name": "#%%\n",
     "is_executing": false
    }
   }
  },
  {
   "cell_type": "code",
   "execution_count": 91,
   "outputs": [],
   "source": [
    "def task_4_3_func(A, x):\n",
    "    abs_of_x = x.transpose().dot(x)\n",
    "    return 2 * abs_of_x ** abs_of_x\n",
    "\n",
    "def task_4_3_gradient(A, x):\n",
    "    abs_of_x = x.transpose().dot(x)\n",
    "    return 2 * x * abs_of_x ** abs_of_x **(1 + np.log(abs_of_x))\n",
    "\n",
    "def task_4_3_hessian(A, x):\n",
    "    T = abs_of_x = x.transpose().dot(x)\n",
    "    return 2 * T ** T * (1 + np.log(T) + 2 * x.dot(x.transpose()) * (T ** -1 + (np.log(T) + 1) ** 2)) + np.ones(A.shape)"
   ],
   "metadata": {
    "collapsed": false,
    "pycharm": {
     "name": "#%%\n",
     "is_executing": false
    }
   }
  },
  {
   "cell_type": "code",
   "execution_count": 92,
   "outputs": [
    {
     "name": "stdout",
     "text": [
      "Failed! max error inf\n"
     ],
     "output_type": "stream"
    },
    {
     "name": "stderr",
     "text": [
      "/home/raf/anaconda3/envs/common/lib/python3.7/site-packages/ipykernel_launcher.py:7: RuntimeWarning: overflow encountered in power\n  import sys\n"
     ],
     "output_type": "stream"
    }
   ],
   "source": [
    "check_gradient(shape_one(lambda x: task_4_3_func(RANDOM_MATRIX, x)),\n",
    "               lambda x: task_4_3_gradient(RANDOM_MATRIX, x))"
   ],
   "metadata": {
    "collapsed": false,
    "pycharm": {
     "name": "#%%\n",
     "is_executing": false
    }
   }
  },
  {
   "cell_type": "code",
   "execution_count": 93,
   "outputs": [
    {
     "name": "stdout",
     "text": [
      "Failed! max error nan\n"
     ],
     "output_type": "stream"
    },
    {
     "name": "stderr",
     "text": [
      "/home/raf/anaconda3/envs/common/lib/python3.7/site-packages/ipykernel_launcher.py:7: RuntimeWarning: overflow encountered in power\n  import sys\n/home/raf/anaconda3/envs/common/lib/python3.7/site-packages/ipykernel_launcher.py:12: RuntimeWarning: invalid value encountered in subtract\n  if sys.path[0] == '':\n"
     ],
     "output_type": "stream"
    }
   ],
   "source": [
    "check_gradient(shape_n(lambda x: task_4_3_gradient(RANDOM_MATRIX, x)),\n",
    "               lambda x: task_4_3_hessian(RANDOM_MATRIX, x))\n"
   ],
   "metadata": {
    "collapsed": false,
    "pycharm": {
     "name": "#%%\n",
     "is_executing": false
    }
   }
  },
  {
   "cell_type": "markdown",
   "metadata": {},
   "source": [
    "#  Задание 7"
   ]
  },
  {
   "cell_type": "code",
   "execution_count": 94,
   "metadata": {
    "pycharm": {
     "is_executing": false
    }
   },
   "outputs": [],
   "source": [
    "def get_max_diff(f, derivative, points, eps):\n",
    "    analytic_derivative = derivative(points)\n",
    "    num_grad = numerical_gradient(f, points, eps)\n",
    "    return np.max(np.abs(analytic_derivative - num_grad))"
   ]
  },
  {
   "cell_type": "code",
   "execution_count": 104,
   "metadata": {
    "pycharm": {
     "is_executing": false
    }
   },
   "outputs": [],
   "source": [
    "def plot_eps_relation(points, f, derivative, test_type):\n",
    "    dtype = points.dtype\n",
    "    dtype_min = np.finfo(dtype).eps\n",
    "    dtype_min_sqrt = np.sqrt(dtype_min)\n",
    "    \n",
    "    x_eps = [dtype_min * (10 ** 0.5) ** i for i in range(test_type)]\n",
    "    diffs = list(get_max_diff(f, derivative, points, eps) for eps in x_eps)\n",
    "                \n",
    "    plt.title(f'Precision {dtype}')\n",
    "    plt.plot(x_eps, diffs, 'o', markersize=2)\n",
    "    plt.yscale('log')\n",
    "    plt.xscale('log')\n",
    "    plt.xlabel(\"delta h\")\n",
    "    plt.ylabel(\"error\")\n",
    "    plt.axvline(dtype_min, linewidth=1, color='r')\n",
    "    plt.axvline(dtype_min_sqrt, linewidth=1, color='r')\n",
    "    plt.show()\n"
   ]
  },
  {
   "cell_type": "code",
   "execution_count": 105,
   "outputs": [
    {
     "data": {
      "text/plain": "<Figure size 432x288 with 1 Axes>",
      "image/png": "[encoded data removed]"
     },
     "metadata": {
      "needs_background": "light"
     },
     "output_type": "display_data"
    }
   ],
   "source": [
    "plot_eps_relation(RANDOM_POINTS, \n",
    "                  shape_one(lambda x: task_4_1_func(RANDOM_MATRIX, x)),\n",
    "                  lambda x: task_4_1_gradient(RANDOM_MATRIX, x), 32)"
   ],
   "metadata": {
    "collapsed": false,
    "pycharm": {
     "name": "#%%\n",
     "is_executing": false
    }
   }
  },
  {
   "cell_type": "code",
   "execution_count": 106,
   "outputs": [
    {
     "data": {
      "text/plain": "<Figure size 432x288 with 1 Axes>",
      "image/png": "[encoded data removed]"
     },
     "metadata": {
      "needs_background": "light"
     },
     "output_type": "display_data"
    }
   ],
   "source": [
    "plot_eps_relation(RANDOM_POINTS64, \n",
    "                  shape_one(lambda x: task_4_1_func(RANDOM_MATRIX64, x)),\n",
    "                  lambda x: task_4_1_gradient(RANDOM_MATRIX64, x), 64)"
   ],
   "metadata": {
    "collapsed": false,
    "pycharm": {
     "name": "#%%\n",
     "is_executing": false
    }
   }
  },
  {
   "cell_type": "code",
   "execution_count": 107,
   "metadata": {
    "pycharm": {
     "is_executing": false
    }
   },
   "outputs": [
    {
     "data": {
      "text/plain": "<Figure size 432x288 with 1 Axes>",
      "image/png": "[encoded data removed]"
     },
     "metadata": {
      "needs_background": "light"
     },
     "output_type": "display_data"
    }
   ],
   "source": [
    "plot_eps_relation(RANDOM_POINTS, \n",
    "                  shape_one(lambda x: task_4_2_func(RANDOM_MATRIX, x)), \n",
    "                  lambda x: task_4_2_gradient(RANDOM_MATRIX, x), 32)"
   ]
  },
  {
   "cell_type": "code",
   "execution_count": 108,
   "outputs": [
    {
     "data": {
      "text/plain": "<Figure size 432x288 with 1 Axes>",
      "image/png": "[encoded data removed]"
     },
     "metadata": {
      "needs_background": "light"
     },
     "output_type": "display_data"
    }
   ],
   "source": [
    "plot_eps_relation(RANDOM_POINTS64, \n",
    "                  shape_one(lambda x: task_4_2_func(RANDOM_MATRIX64, x)),\n",
    "                  lambda x: task_4_2_gradient(RANDOM_MATRIX64, x), 64)\n",
    "\n"
   ],
   "metadata": {
    "collapsed": false,
    "pycharm": {
     "name": "#%%\n",
     "is_executing": false
    }
   }
  },
  {
   "cell_type": "code",
   "execution_count": 99,
   "outputs": [],
   "source": [
    "\n"
   ],
   "metadata": {
    "collapsed": false,
    "pycharm": {
     "name": "#%%\n",
     "is_executing": false
    }
   }
  }
 ],
 "metadata": {
  "kernelspec": {
   "display_name": "Python 3",
   "language": "python",
   "name": "python3"
  },
  "language_info": {
   "codemirror_mode": {
    "name": "ipython",
    "version": 3
   },
   "file_extension": ".py",
   "mimetype": "text/x-python",
   "name": "python",
   "nbconvert_exporter": "python",
   "pygments_lexer": "ipython3",
   "version": "3.7.4"
  },
  "pycharm": {
   "stem_cell": {
    "cell_type": "raw",
    "source": [],
    "metadata": {
     "collapsed": false
    }
   }
  }
 },
 "nbformat": 4,
 "nbformat_minor": 2
}